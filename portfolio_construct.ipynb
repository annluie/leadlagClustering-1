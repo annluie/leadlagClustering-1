{
 "cells": [
  {
   "cell_type": "markdown",
   "id": "fd3866f9",
   "metadata": {},
   "source": [
    "# Building Portfolios from Synthetic Assets"
   ]
  },
  {
   "cell_type": "code",
   "execution_count": null,
   "id": "b796a124",
   "metadata": {},
   "outputs": [],
   "source": [
    "################\n",
    "# Import dependencies\n",
    "################\n",
    "import numpy as np\n",
    "import matplotlib.pyplot as plt\n",
    "#import correlations as corr\n",
    "import distcorr as corr"
   ]
  },
  {
   "cell_type": "code",
   "execution_count": null,
   "id": "098d0899",
   "metadata": {},
   "outputs": [],
   "source": [
    "##################\n",
    "# Define global variables\n",
    "##################\n",
    "L = 20 #lookback window\n",
    "rebalance = 5 #rebalancing frequency"
   ]
  },
  {
   "cell_type": "markdown",
   "id": "884580dd",
   "metadata": {},
   "source": [
    "## Lead-Lag Metrics"
   ]
  },
  {
   "cell_type": "code",
   "execution_count": null,
   "id": "ed2ff081",
   "metadata": {},
   "outputs": [],
   "source": [
    "def ccf(x, y, lags=None):\n",
    "    \"\"\"\n",
    "    Cross-correlation function\n",
    "    assume x,y are already loaded in for correct time frame\n",
    "    \"\"\"\n",
    "    if lags is None:\n",
    "        lags = np.arange(-len(x) + 1, len(y))\n",
    "    \n",
    "    ccf_values = []\n",
    "    for lag in lags:\n",
    "        if lag < 0: #this refers to x leading y\n",
    "            cross_corr = corr.distance_correlation(x[:lag], y[-lag:]) \n",
    "            ccf_values.append(cross_corr)\n",
    "        else: #this refers to y leading x\n",
    "            cross_corr = corr.distance_correlation(x[lag:], y[:-lag])\n",
    "            ccf_values.append(cross_corr)\n",
    "    \n",
    "    return np.array(ccf_values)\n",
    "\n",
    "def ccf_auc(x, y, lag):\n",
    "    \"\"\"\n",
    "    Area under the cross-correlation function\n",
    "    \"\"\"\n",
    "    lags = list(range(1, lag + 1))\n",
    "    ccf_values_xy = ccf(x, y, lags)\n",
    "    ccf_values_yx = ccf(y, x, lags)\n",
    "    I_xy, I_yx = 0 #corresponds to correlation of x leading y and y leading x\n",
    "    for i in lags:\n",
    "        I_xy += abs(ccf_values_xy[i - 1])\n",
    "        I_yx += abs(ccf_values_yx[i - 1])\n",
    "    max_I = max(I_xy, I_yx)\n",
    "    auc = np.sign(I_xy - I_yx) * (max_I / (I_xy + I_yx))\n",
    "    return auc\n",
    "\n"
   ]
  },
  {
   "cell_type": "markdown",
   "id": "8d4da8bc",
   "metadata": {},
   "source": [
    "## GlobalRank"
   ]
  },
  {
   "cell_type": "code",
   "execution_count": null,
   "id": "870d0ae0",
   "metadata": {},
   "outputs": [],
   "source": []
  }
 ],
 "metadata": {
  "kernelspec": {
   "display_name": ".conda",
   "language": "python",
   "name": "python3"
  },
  "language_info": {
   "name": "python",
   "version": "3.11.11"
  }
 },
 "nbformat": 4,
 "nbformat_minor": 5
}
