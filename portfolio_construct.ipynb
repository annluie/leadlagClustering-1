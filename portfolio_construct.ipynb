{
 "cells": [
  {
   "cell_type": "markdown",
   "id": "fd3866f9",
   "metadata": {},
   "source": [
    "# Building Portfolios from Synthetic Assets"
   ]
  },
  {
   "cell_type": "code",
   "execution_count": null,
   "id": "b796a124",
   "metadata": {},
   "outputs": [],
   "source": [
    "################\n",
    "# Import dependencies\n",
    "################\n",
    "import numpy as np\n",
    "import matplotlib.pyplot as plt\n",
    "#import correlations as corr\n",
    "import distcorr as corr\n",
    "#import data"
   ]
  },
  {
   "cell_type": "code",
   "execution_count": null,
   "id": "098d0899",
   "metadata": {},
   "outputs": [],
   "source": [
    "##################\n",
    "# Define global variables\n",
    "##################\n",
    "L = 20 #lookback window\n",
    "rebalance = 5 #rebalancing frequency\n",
    "# load in data\n",
    "# Default data for testing\n",
    "import \n",
    "\n",
    "tickers = ['AAPL', 'MSFT', 'GOOG']\n",
    "data = yf.download(tickers, start=\"2020-01-01\", end=\"2020-06-01\")['Adj Close']\n",
    "returns = data.pct_change().dropna()"
   ]
  },
  {
   "cell_type": "markdown",
   "id": "884580dd",
   "metadata": {},
   "source": [
    "## Lead-Lag Metrics"
   ]
  },
  {
   "cell_type": "code",
   "execution_count": null,
   "id": "ed2ff081",
   "metadata": {},
   "outputs": [],
   "source": [
    "def ccf(x, y, lags=None):\n",
    "    \"\"\"\n",
    "    Cross-correlation function\n",
    "    assume x,y are already loaded in for lookback window length\n",
    "    \"\"\"\n",
    "    if lags is None:\n",
    "        lags = np.arange(-len(x) + 1, len(y))\n",
    "    \n",
    "    ccf_values = []\n",
    "    for lag in lags:\n",
    "        if lag < 0: #this refers to x leading y\n",
    "            cross_corr = corr.distance_correlation(x[:lag], y[-lag:]) #can modify this to use a different correlation measure\n",
    "            ccf_values.append(cross_corr)\n",
    "        else: #this refers to y leading x\n",
    "            cross_corr = corr.distance_correlation(x[lag:], y[:-lag])\n",
    "            ccf_values.append(cross_corr)\n",
    "    \n",
    "    return np.array(ccf_values)\n",
    "\n",
    "def ccf_auc(x, y, lag):\n",
    "    \"\"\"\n",
    "    Area under the cross-correlation function\n",
    "    \"\"\"\n",
    "    lags = list(range(1, lag + 1))\n",
    "    ccf_values_xy = ccf(x, y, lags)\n",
    "    ccf_values_yx = ccf(y, x, lags)\n",
    "    I_xy, I_yx = 0 #corresponds to correlation of x leading y and y leading x\n",
    "    for i in lags:\n",
    "        I_xy += abs(ccf_values_xy[i - 1])\n",
    "        I_yx += abs(ccf_values_yx[i - 1])\n",
    "    max_I = max(I_xy, I_yx)\n",
    "    auc = np.sign(I_xy - I_yx) * (max_I / (I_xy + I_yx))\n",
    "    return auc\n",
    "\n",
    "def compute_lead_lag_matrix(assets, lag):\n",
    "    \"\"\"\n",
    "    Compute the skew-sym lead-lag matrix for a set of assets\n",
    "    \"\"\"\n",
    "    n = len(assets)\n",
    "    lead_lag_matrix = np.zeros((n, n))\n",
    "    \n",
    "    for i in range(n):\n",
    "        for j in range(n):\n",
    "            if i != j:\n",
    "                lead_lag_matrix[i, j] = ccf_auc(assets[i], assets[j], lag)\n",
    "    \n",
    "    return lead_lag_matrix\n",
    "\n"
   ]
  },
  {
   "cell_type": "markdown",
   "id": "8d4da8bc",
   "metadata": {},
   "source": [
    "# GlobalRank"
   ]
  },
  {
   "cell_type": "code",
   "execution_count": null,
   "id": "870d0ae0",
   "metadata": {},
   "outputs": [],
   "source": [
    "## functions needed\n",
    "def find_global_rank(lead_lag_matrix):\n",
    "    \"\"\"\n",
    "    Find the global rank of each asset based on the column averages of the lead-lag matrix\n",
    "    \"\"\"\n",
    "    n = lead_lag_matrix.shape[0]\n",
    "    global_rank = np.zeros(n)\n",
    "    for j in range(n):\n",
    "        global_rank[j] = np.mean(lead_lag_matrix[:, j])\n",
    "    return global_rank\n",
    "\n",
    "def sort_assets_by_rank(assets, global_rank):\n",
    "    \"\"\"\n",
    "    Sort assets by their global rank\n",
    "    \"\"\"\n",
    "    sorted_indices = np.argsort(global_rank)[::-1]  # Sort in descending order\n",
    "    sorted_assets = [assets[i] for i in sorted_indices]\n",
    "    return sorted_assets, sorted_indices  \n",
    "\n",
    "def get_top_m_assets(assets, global_rank, m):\n",
    "    \"\"\"\n",
    "    Get the top m assets based on global rank\n",
    "    \"\"\"\n",
    "    sorted_assets, sorted_indices = sort_assets_by_rank(assets, global_rank)\n",
    "    return sorted_assets[:m], sorted_indices[:m]\n",
    "\n",
    "def get_bottom_n_assets(assets, global_rank, n):\n",
    "    \"\"\"\n",
    "    Get the bottom n assets based on global rank\n",
    "    \"\"\"\n",
    "    sorted_assets, sorted_indices = sort_assets_by_rank(assets, global_rank)\n",
    "    return sorted_assets[-n:], sorted_indices[-n:]\n",
    "\n",
    "def compute_returns_daily_rebalance(leaders, followers, r_mkt, t):\n",
    "    \"\"\"\n",
    "    Computes returns of portfolio with an equal weight of leaders and followers, and daily rebalancing.\n",
    "    \"\"\"\n",
    "    av_leader_returns, av_follower_returns = 0, 0\n",
    "    #compute returns of leaders \n",
    "    for i in range(len(leaders)): #leaders is an mxT matrix\n",
    "        av_leader_returns+=leaders[i][t-1] \n",
    "    av_leader_returns /= len(leaders)\n",
    "    for i in range(len(followers)): #followers is an nxT matrix\n",
    "        av_follower_returns+=followers[i][t]\n",
    "    av_follower_returns /= len(followers)\n",
    "    if av_leader_returns >=0:\n",
    "        port_return = av_follower_returns - r_mkt[t]\n",
    "    else:\n",
    "        port_return = r_mkt[t] - av_follower_returns\n",
    "    return port_return"
   ]
  },
  {
   "cell_type": "markdown",
   "id": "bd562875",
   "metadata": {},
   "source": [
    "## Running Code"
   ]
  }
 ],
 "metadata": {
  "kernelspec": {
   "display_name": "base",
   "language": "python",
   "name": "python3"
  },
  "language_info": {
   "codemirror_mode": {
    "name": "ipython",
    "version": 3
   },
   "file_extension": ".py",
   "mimetype": "text/x-python",
   "name": "python",
   "nbconvert_exporter": "python",
   "pygments_lexer": "ipython3",
   "version": "3.12.4"
  }
 },
 "nbformat": 4,
 "nbformat_minor": 5
}
